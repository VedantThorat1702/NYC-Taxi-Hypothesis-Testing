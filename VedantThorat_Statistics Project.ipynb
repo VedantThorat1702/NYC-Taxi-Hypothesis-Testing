{
 "cells": [
  {
   "cell_type": "markdown",
   "id": "529af6c7",
   "metadata": {},
   "source": [
    "# Importing Libraries"
   ]
  },
  {
   "cell_type": "code",
   "execution_count": 1,
   "id": "bbf6e0dd",
   "metadata": {},
   "outputs": [],
   "source": [
    "import pandas as pd\n",
    "import numpy as np\n",
    "import matplotlib.pyplot as plt\n",
    "import seaborn as sns\n",
    "import scipy.stats as st\n",
    "import warnings\n",
    "warnings.filterwarnings('ignore')"
   ]
  },
  {
   "cell_type": "markdown",
   "id": "b94e8c59",
   "metadata": {},
   "source": [
    "# Loading the data"
   ]
  },
  {
   "cell_type": "code",
   "execution_count": 2,
   "id": "2e4f205b",
   "metadata": {},
   "outputs": [],
   "source": [
    "data = pd.read_csv(r\"C:\\Users\\Lenovo\\Desktop\\Data Science\\Statistics\\Statistics Project\\Maximizing Revenue for Drivers\\Dataset\\yellow_tripdata_2020-01.csv\")"
   ]
  },
  {
   "cell_type": "code",
   "execution_count": 3,
   "id": "e47220c9",
   "metadata": {
    "scrolled": true
   },
   "outputs": [
    {
     "data": {
      "text/html": [
       "<div>\n",
       "<style scoped>\n",
       "    .dataframe tbody tr th:only-of-type {\n",
       "        vertical-align: middle;\n",
       "    }\n",
       "\n",
       "    .dataframe tbody tr th {\n",
       "        vertical-align: top;\n",
       "    }\n",
       "\n",
       "    .dataframe thead th {\n",
       "        text-align: right;\n",
       "    }\n",
       "</style>\n",
       "<table border=\"1\" class=\"dataframe\">\n",
       "  <thead>\n",
       "    <tr style=\"text-align: right;\">\n",
       "      <th></th>\n",
       "      <th>VendorID</th>\n",
       "      <th>tpep_pickup_datetime</th>\n",
       "      <th>tpep_dropoff_datetime</th>\n",
       "      <th>passenger_count</th>\n",
       "      <th>trip_distance</th>\n",
       "      <th>RatecodeID</th>\n",
       "      <th>store_and_fwd_flag</th>\n",
       "      <th>PULocationID</th>\n",
       "      <th>DOLocationID</th>\n",
       "      <th>payment_type</th>\n",
       "      <th>fare_amount</th>\n",
       "      <th>extra</th>\n",
       "      <th>mta_tax</th>\n",
       "      <th>tip_amount</th>\n",
       "      <th>tolls_amount</th>\n",
       "      <th>improvement_surcharge</th>\n",
       "      <th>total_amount</th>\n",
       "      <th>congestion_surcharge</th>\n",
       "    </tr>\n",
       "  </thead>\n",
       "  <tbody>\n",
       "    <tr>\n",
       "      <th>0</th>\n",
       "      <td>1.0</td>\n",
       "      <td>2020-01-01 00:28:15</td>\n",
       "      <td>2020-01-01 00:33:03</td>\n",
       "      <td>1.0</td>\n",
       "      <td>1.2</td>\n",
       "      <td>1.0</td>\n",
       "      <td>N</td>\n",
       "      <td>238</td>\n",
       "      <td>239</td>\n",
       "      <td>1.0</td>\n",
       "      <td>6.0</td>\n",
       "      <td>3.0</td>\n",
       "      <td>0.5</td>\n",
       "      <td>1.47</td>\n",
       "      <td>0.0</td>\n",
       "      <td>0.3</td>\n",
       "      <td>11.27</td>\n",
       "      <td>2.5</td>\n",
       "    </tr>\n",
       "    <tr>\n",
       "      <th>1</th>\n",
       "      <td>1.0</td>\n",
       "      <td>2020-01-01 00:35:39</td>\n",
       "      <td>2020-01-01 00:43:04</td>\n",
       "      <td>1.0</td>\n",
       "      <td>1.2</td>\n",
       "      <td>1.0</td>\n",
       "      <td>N</td>\n",
       "      <td>239</td>\n",
       "      <td>238</td>\n",
       "      <td>1.0</td>\n",
       "      <td>7.0</td>\n",
       "      <td>3.0</td>\n",
       "      <td>0.5</td>\n",
       "      <td>1.50</td>\n",
       "      <td>0.0</td>\n",
       "      <td>0.3</td>\n",
       "      <td>12.30</td>\n",
       "      <td>2.5</td>\n",
       "    </tr>\n",
       "    <tr>\n",
       "      <th>2</th>\n",
       "      <td>1.0</td>\n",
       "      <td>2020-01-01 00:47:41</td>\n",
       "      <td>2020-01-01 00:53:52</td>\n",
       "      <td>1.0</td>\n",
       "      <td>0.6</td>\n",
       "      <td>1.0</td>\n",
       "      <td>N</td>\n",
       "      <td>238</td>\n",
       "      <td>238</td>\n",
       "      <td>1.0</td>\n",
       "      <td>6.0</td>\n",
       "      <td>3.0</td>\n",
       "      <td>0.5</td>\n",
       "      <td>1.00</td>\n",
       "      <td>0.0</td>\n",
       "      <td>0.3</td>\n",
       "      <td>10.80</td>\n",
       "      <td>2.5</td>\n",
       "    </tr>\n",
       "    <tr>\n",
       "      <th>3</th>\n",
       "      <td>1.0</td>\n",
       "      <td>2020-01-01 00:55:23</td>\n",
       "      <td>2020-01-01 01:00:14</td>\n",
       "      <td>1.0</td>\n",
       "      <td>0.8</td>\n",
       "      <td>1.0</td>\n",
       "      <td>N</td>\n",
       "      <td>238</td>\n",
       "      <td>151</td>\n",
       "      <td>1.0</td>\n",
       "      <td>5.5</td>\n",
       "      <td>0.5</td>\n",
       "      <td>0.5</td>\n",
       "      <td>1.36</td>\n",
       "      <td>0.0</td>\n",
       "      <td>0.3</td>\n",
       "      <td>8.16</td>\n",
       "      <td>0.0</td>\n",
       "    </tr>\n",
       "    <tr>\n",
       "      <th>4</th>\n",
       "      <td>2.0</td>\n",
       "      <td>2020-01-01 00:01:58</td>\n",
       "      <td>2020-01-01 00:04:16</td>\n",
       "      <td>1.0</td>\n",
       "      <td>0.0</td>\n",
       "      <td>1.0</td>\n",
       "      <td>N</td>\n",
       "      <td>193</td>\n",
       "      <td>193</td>\n",
       "      <td>2.0</td>\n",
       "      <td>3.5</td>\n",
       "      <td>0.5</td>\n",
       "      <td>0.5</td>\n",
       "      <td>0.00</td>\n",
       "      <td>0.0</td>\n",
       "      <td>0.3</td>\n",
       "      <td>4.80</td>\n",
       "      <td>0.0</td>\n",
       "    </tr>\n",
       "  </tbody>\n",
       "</table>\n",
       "</div>"
      ],
      "text/plain": [
       "   VendorID tpep_pickup_datetime tpep_dropoff_datetime  passenger_count  \\\n",
       "0       1.0  2020-01-01 00:28:15   2020-01-01 00:33:03              1.0   \n",
       "1       1.0  2020-01-01 00:35:39   2020-01-01 00:43:04              1.0   \n",
       "2       1.0  2020-01-01 00:47:41   2020-01-01 00:53:52              1.0   \n",
       "3       1.0  2020-01-01 00:55:23   2020-01-01 01:00:14              1.0   \n",
       "4       2.0  2020-01-01 00:01:58   2020-01-01 00:04:16              1.0   \n",
       "\n",
       "   trip_distance  RatecodeID store_and_fwd_flag  PULocationID  DOLocationID  \\\n",
       "0            1.2         1.0                  N           238           239   \n",
       "1            1.2         1.0                  N           239           238   \n",
       "2            0.6         1.0                  N           238           238   \n",
       "3            0.8         1.0                  N           238           151   \n",
       "4            0.0         1.0                  N           193           193   \n",
       "\n",
       "   payment_type  fare_amount  extra  mta_tax  tip_amount  tolls_amount  \\\n",
       "0           1.0          6.0    3.0      0.5        1.47           0.0   \n",
       "1           1.0          7.0    3.0      0.5        1.50           0.0   \n",
       "2           1.0          6.0    3.0      0.5        1.00           0.0   \n",
       "3           1.0          5.5    0.5      0.5        1.36           0.0   \n",
       "4           2.0          3.5    0.5      0.5        0.00           0.0   \n",
       "\n",
       "   improvement_surcharge  total_amount  congestion_surcharge  \n",
       "0                    0.3         11.27                   2.5  \n",
       "1                    0.3         12.30                   2.5  \n",
       "2                    0.3         10.80                   2.5  \n",
       "3                    0.3          8.16                   0.0  \n",
       "4                    0.3          4.80                   0.0  "
      ]
     },
     "execution_count": 3,
     "metadata": {},
     "output_type": "execute_result"
    }
   ],
   "source": [
    "data.head()"
   ]
  },
  {
   "cell_type": "markdown",
   "id": "0a68ad0d",
   "metadata": {},
   "source": [
    "Checking Shape of data"
   ]
  },
  {
   "cell_type": "code",
   "execution_count": 4,
   "id": "799462a0",
   "metadata": {
    "scrolled": false
   },
   "outputs": [
    {
     "data": {
      "text/plain": [
       "(6405008, 18)"
      ]
     },
     "execution_count": 4,
     "metadata": {},
     "output_type": "execute_result"
    }
   ],
   "source": [
    "data.shape"
   ]
  },
  {
   "cell_type": "markdown",
   "id": "dc733c11",
   "metadata": {},
   "source": [
    "Checking Data Types"
   ]
  },
  {
   "cell_type": "code",
   "execution_count": 5,
   "id": "05e38d16",
   "metadata": {
    "scrolled": false
   },
   "outputs": [
    {
     "data": {
      "text/plain": [
       "VendorID                 float64\n",
       "tpep_pickup_datetime      object\n",
       "tpep_dropoff_datetime     object\n",
       "passenger_count          float64\n",
       "trip_distance            float64\n",
       "RatecodeID               float64\n",
       "store_and_fwd_flag        object\n",
       "PULocationID               int64\n",
       "DOLocationID               int64\n",
       "payment_type             float64\n",
       "fare_amount              float64\n",
       "extra                    float64\n",
       "mta_tax                  float64\n",
       "tip_amount               float64\n",
       "tolls_amount             float64\n",
       "improvement_surcharge    float64\n",
       "total_amount             float64\n",
       "congestion_surcharge     float64\n",
       "dtype: object"
      ]
     },
     "execution_count": 5,
     "metadata": {},
     "output_type": "execute_result"
    }
   ],
   "source": [
    "# datatypes of the data\n",
    "data.dtypes"
   ]
  },
  {
   "cell_type": "markdown",
   "id": "ed76e82c",
   "metadata": {},
   "source": [
    "Changing Data Types"
   ]
  },
  {
   "cell_type": "code",
   "execution_count": 6,
   "id": "8e24b924",
   "metadata": {},
   "outputs": [],
   "source": [
    "data['tpep_pickup_datetime'] = pd.to_datetime(data['tpep_pickup_datetime'])\n",
    "data['tpep_dropoff_datetime'] = pd.to_datetime(data['tpep_dropoff_datetime'])"
   ]
  },
  {
   "cell_type": "markdown",
   "id": "67d84b59",
   "metadata": {},
   "source": [
    "Cheching duration of ride"
   ]
  },
  {
   "cell_type": "code",
   "execution_count": 7,
   "id": "6bf476ef",
   "metadata": {
    "scrolled": false
   },
   "outputs": [],
   "source": [
    "data['duration'] = data['tpep_dropoff_datetime'] - data['tpep_pickup_datetime']\n",
    "data['duration'] = data['duration'].dt.total_seconds()/60"
   ]
  },
  {
   "cell_type": "code",
   "execution_count": 8,
   "id": "38ed508e",
   "metadata": {
    "scrolled": true
   },
   "outputs": [
    {
     "data": {
      "text/html": [
       "<div>\n",
       "<style scoped>\n",
       "    .dataframe tbody tr th:only-of-type {\n",
       "        vertical-align: middle;\n",
       "    }\n",
       "\n",
       "    .dataframe tbody tr th {\n",
       "        vertical-align: top;\n",
       "    }\n",
       "\n",
       "    .dataframe thead th {\n",
       "        text-align: right;\n",
       "    }\n",
       "</style>\n",
       "<table border=\"1\" class=\"dataframe\">\n",
       "  <thead>\n",
       "    <tr style=\"text-align: right;\">\n",
       "      <th></th>\n",
       "      <th>VendorID</th>\n",
       "      <th>tpep_pickup_datetime</th>\n",
       "      <th>tpep_dropoff_datetime</th>\n",
       "      <th>passenger_count</th>\n",
       "      <th>trip_distance</th>\n",
       "      <th>RatecodeID</th>\n",
       "      <th>store_and_fwd_flag</th>\n",
       "      <th>PULocationID</th>\n",
       "      <th>DOLocationID</th>\n",
       "      <th>payment_type</th>\n",
       "      <th>fare_amount</th>\n",
       "      <th>extra</th>\n",
       "      <th>mta_tax</th>\n",
       "      <th>tip_amount</th>\n",
       "      <th>tolls_amount</th>\n",
       "      <th>improvement_surcharge</th>\n",
       "      <th>total_amount</th>\n",
       "      <th>congestion_surcharge</th>\n",
       "      <th>duration</th>\n",
       "    </tr>\n",
       "  </thead>\n",
       "  <tbody>\n",
       "    <tr>\n",
       "      <th>0</th>\n",
       "      <td>1.0</td>\n",
       "      <td>2020-01-01 00:28:15</td>\n",
       "      <td>2020-01-01 00:33:03</td>\n",
       "      <td>1.0</td>\n",
       "      <td>1.20</td>\n",
       "      <td>1.0</td>\n",
       "      <td>N</td>\n",
       "      <td>238</td>\n",
       "      <td>239</td>\n",
       "      <td>1.0</td>\n",
       "      <td>6.00</td>\n",
       "      <td>3.00</td>\n",
       "      <td>0.5</td>\n",
       "      <td>1.47</td>\n",
       "      <td>0.00</td>\n",
       "      <td>0.3</td>\n",
       "      <td>11.27</td>\n",
       "      <td>2.5</td>\n",
       "      <td>4.800000</td>\n",
       "    </tr>\n",
       "    <tr>\n",
       "      <th>1</th>\n",
       "      <td>1.0</td>\n",
       "      <td>2020-01-01 00:35:39</td>\n",
       "      <td>2020-01-01 00:43:04</td>\n",
       "      <td>1.0</td>\n",
       "      <td>1.20</td>\n",
       "      <td>1.0</td>\n",
       "      <td>N</td>\n",
       "      <td>239</td>\n",
       "      <td>238</td>\n",
       "      <td>1.0</td>\n",
       "      <td>7.00</td>\n",
       "      <td>3.00</td>\n",
       "      <td>0.5</td>\n",
       "      <td>1.50</td>\n",
       "      <td>0.00</td>\n",
       "      <td>0.3</td>\n",
       "      <td>12.30</td>\n",
       "      <td>2.5</td>\n",
       "      <td>7.416667</td>\n",
       "    </tr>\n",
       "    <tr>\n",
       "      <th>2</th>\n",
       "      <td>1.0</td>\n",
       "      <td>2020-01-01 00:47:41</td>\n",
       "      <td>2020-01-01 00:53:52</td>\n",
       "      <td>1.0</td>\n",
       "      <td>0.60</td>\n",
       "      <td>1.0</td>\n",
       "      <td>N</td>\n",
       "      <td>238</td>\n",
       "      <td>238</td>\n",
       "      <td>1.0</td>\n",
       "      <td>6.00</td>\n",
       "      <td>3.00</td>\n",
       "      <td>0.5</td>\n",
       "      <td>1.00</td>\n",
       "      <td>0.00</td>\n",
       "      <td>0.3</td>\n",
       "      <td>10.80</td>\n",
       "      <td>2.5</td>\n",
       "      <td>6.183333</td>\n",
       "    </tr>\n",
       "    <tr>\n",
       "      <th>3</th>\n",
       "      <td>1.0</td>\n",
       "      <td>2020-01-01 00:55:23</td>\n",
       "      <td>2020-01-01 01:00:14</td>\n",
       "      <td>1.0</td>\n",
       "      <td>0.80</td>\n",
       "      <td>1.0</td>\n",
       "      <td>N</td>\n",
       "      <td>238</td>\n",
       "      <td>151</td>\n",
       "      <td>1.0</td>\n",
       "      <td>5.50</td>\n",
       "      <td>0.50</td>\n",
       "      <td>0.5</td>\n",
       "      <td>1.36</td>\n",
       "      <td>0.00</td>\n",
       "      <td>0.3</td>\n",
       "      <td>8.16</td>\n",
       "      <td>0.0</td>\n",
       "      <td>4.850000</td>\n",
       "    </tr>\n",
       "    <tr>\n",
       "      <th>4</th>\n",
       "      <td>2.0</td>\n",
       "      <td>2020-01-01 00:01:58</td>\n",
       "      <td>2020-01-01 00:04:16</td>\n",
       "      <td>1.0</td>\n",
       "      <td>0.00</td>\n",
       "      <td>1.0</td>\n",
       "      <td>N</td>\n",
       "      <td>193</td>\n",
       "      <td>193</td>\n",
       "      <td>2.0</td>\n",
       "      <td>3.50</td>\n",
       "      <td>0.50</td>\n",
       "      <td>0.5</td>\n",
       "      <td>0.00</td>\n",
       "      <td>0.00</td>\n",
       "      <td>0.3</td>\n",
       "      <td>4.80</td>\n",
       "      <td>0.0</td>\n",
       "      <td>2.300000</td>\n",
       "    </tr>\n",
       "    <tr>\n",
       "      <th>...</th>\n",
       "      <td>...</td>\n",
       "      <td>...</td>\n",
       "      <td>...</td>\n",
       "      <td>...</td>\n",
       "      <td>...</td>\n",
       "      <td>...</td>\n",
       "      <td>...</td>\n",
       "      <td>...</td>\n",
       "      <td>...</td>\n",
       "      <td>...</td>\n",
       "      <td>...</td>\n",
       "      <td>...</td>\n",
       "      <td>...</td>\n",
       "      <td>...</td>\n",
       "      <td>...</td>\n",
       "      <td>...</td>\n",
       "      <td>...</td>\n",
       "      <td>...</td>\n",
       "      <td>...</td>\n",
       "    </tr>\n",
       "    <tr>\n",
       "      <th>6405003</th>\n",
       "      <td>NaN</td>\n",
       "      <td>2020-01-31 22:51:00</td>\n",
       "      <td>2020-01-31 23:22:00</td>\n",
       "      <td>NaN</td>\n",
       "      <td>3.24</td>\n",
       "      <td>NaN</td>\n",
       "      <td>NaN</td>\n",
       "      <td>237</td>\n",
       "      <td>234</td>\n",
       "      <td>NaN</td>\n",
       "      <td>17.59</td>\n",
       "      <td>2.75</td>\n",
       "      <td>0.5</td>\n",
       "      <td>0.00</td>\n",
       "      <td>0.00</td>\n",
       "      <td>0.3</td>\n",
       "      <td>21.14</td>\n",
       "      <td>0.0</td>\n",
       "      <td>31.000000</td>\n",
       "    </tr>\n",
       "    <tr>\n",
       "      <th>6405004</th>\n",
       "      <td>NaN</td>\n",
       "      <td>2020-01-31 22:10:00</td>\n",
       "      <td>2020-01-31 23:26:00</td>\n",
       "      <td>NaN</td>\n",
       "      <td>22.13</td>\n",
       "      <td>NaN</td>\n",
       "      <td>NaN</td>\n",
       "      <td>259</td>\n",
       "      <td>45</td>\n",
       "      <td>NaN</td>\n",
       "      <td>46.67</td>\n",
       "      <td>2.75</td>\n",
       "      <td>0.5</td>\n",
       "      <td>0.00</td>\n",
       "      <td>12.24</td>\n",
       "      <td>0.3</td>\n",
       "      <td>62.46</td>\n",
       "      <td>0.0</td>\n",
       "      <td>76.000000</td>\n",
       "    </tr>\n",
       "    <tr>\n",
       "      <th>6405005</th>\n",
       "      <td>NaN</td>\n",
       "      <td>2020-01-31 22:50:07</td>\n",
       "      <td>2020-01-31 23:17:57</td>\n",
       "      <td>NaN</td>\n",
       "      <td>10.51</td>\n",
       "      <td>NaN</td>\n",
       "      <td>NaN</td>\n",
       "      <td>137</td>\n",
       "      <td>169</td>\n",
       "      <td>NaN</td>\n",
       "      <td>48.85</td>\n",
       "      <td>2.75</td>\n",
       "      <td>0.0</td>\n",
       "      <td>0.00</td>\n",
       "      <td>0.00</td>\n",
       "      <td>0.3</td>\n",
       "      <td>51.90</td>\n",
       "      <td>0.0</td>\n",
       "      <td>27.833333</td>\n",
       "    </tr>\n",
       "    <tr>\n",
       "      <th>6405006</th>\n",
       "      <td>NaN</td>\n",
       "      <td>2020-01-31 22:25:53</td>\n",
       "      <td>2020-01-31 22:48:32</td>\n",
       "      <td>NaN</td>\n",
       "      <td>5.49</td>\n",
       "      <td>NaN</td>\n",
       "      <td>NaN</td>\n",
       "      <td>50</td>\n",
       "      <td>42</td>\n",
       "      <td>NaN</td>\n",
       "      <td>27.17</td>\n",
       "      <td>2.75</td>\n",
       "      <td>0.0</td>\n",
       "      <td>0.00</td>\n",
       "      <td>0.00</td>\n",
       "      <td>0.3</td>\n",
       "      <td>30.22</td>\n",
       "      <td>0.0</td>\n",
       "      <td>22.650000</td>\n",
       "    </tr>\n",
       "    <tr>\n",
       "      <th>6405007</th>\n",
       "      <td>NaN</td>\n",
       "      <td>2020-01-31 22:44:00</td>\n",
       "      <td>2020-01-31 23:06:00</td>\n",
       "      <td>NaN</td>\n",
       "      <td>11.60</td>\n",
       "      <td>NaN</td>\n",
       "      <td>NaN</td>\n",
       "      <td>179</td>\n",
       "      <td>205</td>\n",
       "      <td>NaN</td>\n",
       "      <td>54.56</td>\n",
       "      <td>2.75</td>\n",
       "      <td>0.5</td>\n",
       "      <td>0.00</td>\n",
       "      <td>0.00</td>\n",
       "      <td>0.3</td>\n",
       "      <td>58.11</td>\n",
       "      <td>0.0</td>\n",
       "      <td>22.000000</td>\n",
       "    </tr>\n",
       "  </tbody>\n",
       "</table>\n",
       "<p>6405008 rows × 19 columns</p>\n",
       "</div>"
      ],
      "text/plain": [
       "         VendorID tpep_pickup_datetime tpep_dropoff_datetime  passenger_count  \\\n",
       "0             1.0  2020-01-01 00:28:15   2020-01-01 00:33:03              1.0   \n",
       "1             1.0  2020-01-01 00:35:39   2020-01-01 00:43:04              1.0   \n",
       "2             1.0  2020-01-01 00:47:41   2020-01-01 00:53:52              1.0   \n",
       "3             1.0  2020-01-01 00:55:23   2020-01-01 01:00:14              1.0   \n",
       "4             2.0  2020-01-01 00:01:58   2020-01-01 00:04:16              1.0   \n",
       "...           ...                  ...                   ...              ...   \n",
       "6405003       NaN  2020-01-31 22:51:00   2020-01-31 23:22:00              NaN   \n",
       "6405004       NaN  2020-01-31 22:10:00   2020-01-31 23:26:00              NaN   \n",
       "6405005       NaN  2020-01-31 22:50:07   2020-01-31 23:17:57              NaN   \n",
       "6405006       NaN  2020-01-31 22:25:53   2020-01-31 22:48:32              NaN   \n",
       "6405007       NaN  2020-01-31 22:44:00   2020-01-31 23:06:00              NaN   \n",
       "\n",
       "         trip_distance  RatecodeID store_and_fwd_flag  PULocationID  \\\n",
       "0                 1.20         1.0                  N           238   \n",
       "1                 1.20         1.0                  N           239   \n",
       "2                 0.60         1.0                  N           238   \n",
       "3                 0.80         1.0                  N           238   \n",
       "4                 0.00         1.0                  N           193   \n",
       "...                ...         ...                ...           ...   \n",
       "6405003           3.24         NaN                NaN           237   \n",
       "6405004          22.13         NaN                NaN           259   \n",
       "6405005          10.51         NaN                NaN           137   \n",
       "6405006           5.49         NaN                NaN            50   \n",
       "6405007          11.60         NaN                NaN           179   \n",
       "\n",
       "         DOLocationID  payment_type  fare_amount  extra  mta_tax  tip_amount  \\\n",
       "0                 239           1.0         6.00   3.00      0.5        1.47   \n",
       "1                 238           1.0         7.00   3.00      0.5        1.50   \n",
       "2                 238           1.0         6.00   3.00      0.5        1.00   \n",
       "3                 151           1.0         5.50   0.50      0.5        1.36   \n",
       "4                 193           2.0         3.50   0.50      0.5        0.00   \n",
       "...               ...           ...          ...    ...      ...         ...   \n",
       "6405003           234           NaN        17.59   2.75      0.5        0.00   \n",
       "6405004            45           NaN        46.67   2.75      0.5        0.00   \n",
       "6405005           169           NaN        48.85   2.75      0.0        0.00   \n",
       "6405006            42           NaN        27.17   2.75      0.0        0.00   \n",
       "6405007           205           NaN        54.56   2.75      0.5        0.00   \n",
       "\n",
       "         tolls_amount  improvement_surcharge  total_amount  \\\n",
       "0                0.00                    0.3         11.27   \n",
       "1                0.00                    0.3         12.30   \n",
       "2                0.00                    0.3         10.80   \n",
       "3                0.00                    0.3          8.16   \n",
       "4                0.00                    0.3          4.80   \n",
       "...               ...                    ...           ...   \n",
       "6405003          0.00                    0.3         21.14   \n",
       "6405004         12.24                    0.3         62.46   \n",
       "6405005          0.00                    0.3         51.90   \n",
       "6405006          0.00                    0.3         30.22   \n",
       "6405007          0.00                    0.3         58.11   \n",
       "\n",
       "         congestion_surcharge   duration  \n",
       "0                         2.5   4.800000  \n",
       "1                         2.5   7.416667  \n",
       "2                         2.5   6.183333  \n",
       "3                         0.0   4.850000  \n",
       "4                         0.0   2.300000  \n",
       "...                       ...        ...  \n",
       "6405003                   0.0  31.000000  \n",
       "6405004                   0.0  76.000000  \n",
       "6405005                   0.0  27.833333  \n",
       "6405006                   0.0  22.650000  \n",
       "6405007                   0.0  22.000000  \n",
       "\n",
       "[6405008 rows x 19 columns]"
      ]
     },
     "execution_count": 8,
     "metadata": {},
     "output_type": "execute_result"
    }
   ],
   "source": [
    "data"
   ]
  },
  {
   "cell_type": "markdown",
   "id": "5eb45bbf",
   "metadata": {},
   "source": [
    "Fliter Data"
   ]
  },
  {
   "cell_type": "code",
   "execution_count": 9,
   "id": "f354cb8e",
   "metadata": {
    "scrolled": false
   },
   "outputs": [
    {
     "data": {
      "text/html": [
       "<div>\n",
       "<style scoped>\n",
       "    .dataframe tbody tr th:only-of-type {\n",
       "        vertical-align: middle;\n",
       "    }\n",
       "\n",
       "    .dataframe tbody tr th {\n",
       "        vertical-align: top;\n",
       "    }\n",
       "\n",
       "    .dataframe thead th {\n",
       "        text-align: right;\n",
       "    }\n",
       "</style>\n",
       "<table border=\"1\" class=\"dataframe\">\n",
       "  <thead>\n",
       "    <tr style=\"text-align: right;\">\n",
       "      <th></th>\n",
       "      <th>passenger_count</th>\n",
       "      <th>payment_type</th>\n",
       "      <th>fare_amount</th>\n",
       "      <th>trip_distance</th>\n",
       "      <th>duration</th>\n",
       "    </tr>\n",
       "  </thead>\n",
       "  <tbody>\n",
       "    <tr>\n",
       "      <th>0</th>\n",
       "      <td>1.0</td>\n",
       "      <td>1.0</td>\n",
       "      <td>6.00</td>\n",
       "      <td>1.20</td>\n",
       "      <td>4.800000</td>\n",
       "    </tr>\n",
       "    <tr>\n",
       "      <th>1</th>\n",
       "      <td>1.0</td>\n",
       "      <td>1.0</td>\n",
       "      <td>7.00</td>\n",
       "      <td>1.20</td>\n",
       "      <td>7.416667</td>\n",
       "    </tr>\n",
       "    <tr>\n",
       "      <th>2</th>\n",
       "      <td>1.0</td>\n",
       "      <td>1.0</td>\n",
       "      <td>6.00</td>\n",
       "      <td>0.60</td>\n",
       "      <td>6.183333</td>\n",
       "    </tr>\n",
       "    <tr>\n",
       "      <th>3</th>\n",
       "      <td>1.0</td>\n",
       "      <td>1.0</td>\n",
       "      <td>5.50</td>\n",
       "      <td>0.80</td>\n",
       "      <td>4.850000</td>\n",
       "    </tr>\n",
       "    <tr>\n",
       "      <th>4</th>\n",
       "      <td>1.0</td>\n",
       "      <td>2.0</td>\n",
       "      <td>3.50</td>\n",
       "      <td>0.00</td>\n",
       "      <td>2.300000</td>\n",
       "    </tr>\n",
       "    <tr>\n",
       "      <th>...</th>\n",
       "      <td>...</td>\n",
       "      <td>...</td>\n",
       "      <td>...</td>\n",
       "      <td>...</td>\n",
       "      <td>...</td>\n",
       "    </tr>\n",
       "    <tr>\n",
       "      <th>6405003</th>\n",
       "      <td>NaN</td>\n",
       "      <td>NaN</td>\n",
       "      <td>17.59</td>\n",
       "      <td>3.24</td>\n",
       "      <td>31.000000</td>\n",
       "    </tr>\n",
       "    <tr>\n",
       "      <th>6405004</th>\n",
       "      <td>NaN</td>\n",
       "      <td>NaN</td>\n",
       "      <td>46.67</td>\n",
       "      <td>22.13</td>\n",
       "      <td>76.000000</td>\n",
       "    </tr>\n",
       "    <tr>\n",
       "      <th>6405005</th>\n",
       "      <td>NaN</td>\n",
       "      <td>NaN</td>\n",
       "      <td>48.85</td>\n",
       "      <td>10.51</td>\n",
       "      <td>27.833333</td>\n",
       "    </tr>\n",
       "    <tr>\n",
       "      <th>6405006</th>\n",
       "      <td>NaN</td>\n",
       "      <td>NaN</td>\n",
       "      <td>27.17</td>\n",
       "      <td>5.49</td>\n",
       "      <td>22.650000</td>\n",
       "    </tr>\n",
       "    <tr>\n",
       "      <th>6405007</th>\n",
       "      <td>NaN</td>\n",
       "      <td>NaN</td>\n",
       "      <td>54.56</td>\n",
       "      <td>11.60</td>\n",
       "      <td>22.000000</td>\n",
       "    </tr>\n",
       "  </tbody>\n",
       "</table>\n",
       "<p>6405008 rows × 5 columns</p>\n",
       "</div>"
      ],
      "text/plain": [
       "         passenger_count  payment_type  fare_amount  trip_distance   duration\n",
       "0                    1.0           1.0         6.00           1.20   4.800000\n",
       "1                    1.0           1.0         7.00           1.20   7.416667\n",
       "2                    1.0           1.0         6.00           0.60   6.183333\n",
       "3                    1.0           1.0         5.50           0.80   4.850000\n",
       "4                    1.0           2.0         3.50           0.00   2.300000\n",
       "...                  ...           ...          ...            ...        ...\n",
       "6405003              NaN           NaN        17.59           3.24  31.000000\n",
       "6405004              NaN           NaN        46.67          22.13  76.000000\n",
       "6405005              NaN           NaN        48.85          10.51  27.833333\n",
       "6405006              NaN           NaN        27.17           5.49  22.650000\n",
       "6405007              NaN           NaN        54.56          11.60  22.000000\n",
       "\n",
       "[6405008 rows x 5 columns]"
      ]
     },
     "execution_count": 9,
     "metadata": {},
     "output_type": "execute_result"
    }
   ],
   "source": [
    "# filtered data with relevant columns essntial fot the analysis\n",
    "df = data[['passenger_count', 'payment_type', 'fare_amount', 'trip_distance', 'duration']]\n",
    "df"
   ]
  },
  {
   "cell_type": "markdown",
   "id": "c980e4af",
   "metadata": {},
   "source": [
    "Cheching null values"
   ]
  },
  {
   "cell_type": "code",
   "execution_count": 10,
   "id": "0dfcfef1",
   "metadata": {
    "scrolled": false
   },
   "outputs": [
    {
     "data": {
      "text/plain": [
       "passenger_count    65441\n",
       "payment_type       65441\n",
       "fare_amount            0\n",
       "trip_distance          0\n",
       "duration               0\n",
       "dtype: int64"
      ]
     },
     "execution_count": 10,
     "metadata": {},
     "output_type": "execute_result"
    }
   ],
   "source": [
    "df.isnull().sum()"
   ]
  },
  {
   "cell_type": "code",
   "execution_count": 11,
   "id": "ae72f987",
   "metadata": {},
   "outputs": [
    {
     "name": "stdout",
     "output_type": "stream",
     "text": [
      "Percentage of null values in data: 1.021716132126611 %\n"
     ]
    }
   ],
   "source": [
    "print('Percentage of null values in data:',(65441/len(df)*100),'%')"
   ]
  },
  {
   "cell_type": "code",
   "execution_count": 12,
   "id": "b4921949",
   "metadata": {},
   "outputs": [],
   "source": [
    "# as the data has only 1% of data missing, we can simply drop the records with missing values. \n",
    "df.dropna(inplace=True)"
   ]
  },
  {
   "cell_type": "code",
   "execution_count": 13,
   "id": "fd289951",
   "metadata": {},
   "outputs": [
    {
     "data": {
      "text/plain": [
       "(6339567, 5)"
      ]
     },
     "execution_count": 13,
     "metadata": {},
     "output_type": "execute_result"
    }
   ],
   "source": [
    "df.shape"
   ]
  },
  {
   "cell_type": "markdown",
   "id": "6f94f22e",
   "metadata": {},
   "source": [
    "Chaning Data Types"
   ]
  },
  {
   "cell_type": "code",
   "execution_count": 14,
   "id": "5ce06ff1",
   "metadata": {},
   "outputs": [],
   "source": [
    "df['passenger_count'] = df['passenger_count'].astype('int64')\n",
    "df['payment_type'] = df['payment_type'].astype('int64')"
   ]
  },
  {
   "cell_type": "markdown",
   "id": "e02f7bd2",
   "metadata": {},
   "source": [
    "Checking Duplicated Values"
   ]
  },
  {
   "cell_type": "code",
   "execution_count": 15,
   "id": "1c766614",
   "metadata": {
    "scrolled": true
   },
   "outputs": [
    {
     "data": {
      "text/html": [
       "<div>\n",
       "<style scoped>\n",
       "    .dataframe tbody tr th:only-of-type {\n",
       "        vertical-align: middle;\n",
       "    }\n",
       "\n",
       "    .dataframe tbody tr th {\n",
       "        vertical-align: top;\n",
       "    }\n",
       "\n",
       "    .dataframe thead th {\n",
       "        text-align: right;\n",
       "    }\n",
       "</style>\n",
       "<table border=\"1\" class=\"dataframe\">\n",
       "  <thead>\n",
       "    <tr style=\"text-align: right;\">\n",
       "      <th></th>\n",
       "      <th>passenger_count</th>\n",
       "      <th>payment_type</th>\n",
       "      <th>fare_amount</th>\n",
       "      <th>trip_distance</th>\n",
       "      <th>duration</th>\n",
       "    </tr>\n",
       "  </thead>\n",
       "  <tbody>\n",
       "    <tr>\n",
       "      <th>2056</th>\n",
       "      <td>1</td>\n",
       "      <td>2</td>\n",
       "      <td>7.0</td>\n",
       "      <td>0.00</td>\n",
       "      <td>0.000000</td>\n",
       "    </tr>\n",
       "    <tr>\n",
       "      <th>2441</th>\n",
       "      <td>1</td>\n",
       "      <td>1</td>\n",
       "      <td>52.0</td>\n",
       "      <td>0.00</td>\n",
       "      <td>0.200000</td>\n",
       "    </tr>\n",
       "    <tr>\n",
       "      <th>2446</th>\n",
       "      <td>2</td>\n",
       "      <td>1</td>\n",
       "      <td>9.5</td>\n",
       "      <td>1.70</td>\n",
       "      <td>13.066667</td>\n",
       "    </tr>\n",
       "    <tr>\n",
       "      <th>2465</th>\n",
       "      <td>1</td>\n",
       "      <td>1</td>\n",
       "      <td>4.0</td>\n",
       "      <td>0.40</td>\n",
       "      <td>3.083333</td>\n",
       "    </tr>\n",
       "    <tr>\n",
       "      <th>3344</th>\n",
       "      <td>1</td>\n",
       "      <td>1</td>\n",
       "      <td>6.0</td>\n",
       "      <td>1.20</td>\n",
       "      <td>5.350000</td>\n",
       "    </tr>\n",
       "    <tr>\n",
       "      <th>...</th>\n",
       "      <td>...</td>\n",
       "      <td>...</td>\n",
       "      <td>...</td>\n",
       "      <td>...</td>\n",
       "      <td>...</td>\n",
       "    </tr>\n",
       "    <tr>\n",
       "      <th>6339558</th>\n",
       "      <td>1</td>\n",
       "      <td>2</td>\n",
       "      <td>8.0</td>\n",
       "      <td>1.63</td>\n",
       "      <td>8.800000</td>\n",
       "    </tr>\n",
       "    <tr>\n",
       "      <th>6339559</th>\n",
       "      <td>1</td>\n",
       "      <td>1</td>\n",
       "      <td>8.5</td>\n",
       "      <td>1.81</td>\n",
       "      <td>8.016667</td>\n",
       "    </tr>\n",
       "    <tr>\n",
       "      <th>6339560</th>\n",
       "      <td>1</td>\n",
       "      <td>2</td>\n",
       "      <td>6.5</td>\n",
       "      <td>0.98</td>\n",
       "      <td>6.900000</td>\n",
       "    </tr>\n",
       "    <tr>\n",
       "      <th>6339562</th>\n",
       "      <td>1</td>\n",
       "      <td>1</td>\n",
       "      <td>11.0</td>\n",
       "      <td>2.10</td>\n",
       "      <td>14.233333</td>\n",
       "    </tr>\n",
       "    <tr>\n",
       "      <th>6339565</th>\n",
       "      <td>1</td>\n",
       "      <td>2</td>\n",
       "      <td>8.5</td>\n",
       "      <td>1.61</td>\n",
       "      <td>9.633333</td>\n",
       "    </tr>\n",
       "  </tbody>\n",
       "</table>\n",
       "<p>3331706 rows × 5 columns</p>\n",
       "</div>"
      ],
      "text/plain": [
       "         passenger_count  payment_type  fare_amount  trip_distance   duration\n",
       "2056                   1             2          7.0           0.00   0.000000\n",
       "2441                   1             1         52.0           0.00   0.200000\n",
       "2446                   2             1          9.5           1.70  13.066667\n",
       "2465                   1             1          4.0           0.40   3.083333\n",
       "3344                   1             1          6.0           1.20   5.350000\n",
       "...                  ...           ...          ...            ...        ...\n",
       "6339558                1             2          8.0           1.63   8.800000\n",
       "6339559                1             1          8.5           1.81   8.016667\n",
       "6339560                1             2          6.5           0.98   6.900000\n",
       "6339562                1             1         11.0           2.10  14.233333\n",
       "6339565                1             2          8.5           1.61   9.633333\n",
       "\n",
       "[3331706 rows x 5 columns]"
      ]
     },
     "execution_count": 15,
     "metadata": {},
     "output_type": "execute_result"
    }
   ],
   "source": [
    "# check for the duplicate rows\n",
    "df[df.duplicated()]"
   ]
  },
  {
   "cell_type": "code",
   "execution_count": 16,
   "id": "cd12183a",
   "metadata": {},
   "outputs": [],
   "source": [
    "# removing duplicate rows as they will not contribute in analysis\n",
    "df.drop_duplicates(inplace=True)"
   ]
  },
  {
   "cell_type": "code",
   "execution_count": 17,
   "id": "d06448a9",
   "metadata": {},
   "outputs": [
    {
     "data": {
      "text/plain": [
       "(3007861, 5)"
      ]
     },
     "execution_count": 17,
     "metadata": {},
     "output_type": "execute_result"
    }
   ],
   "source": [
    "# after removing missing values and duplicate rows, now we have this much records left\n",
    "df.shape"
   ]
  },
  {
   "cell_type": "markdown",
   "id": "f208bafd",
   "metadata": {},
   "source": [
    "Checking Distribution"
   ]
  },
  {
   "cell_type": "code",
   "execution_count": 18,
   "id": "f20a03b8",
   "metadata": {
    "scrolled": true
   },
   "outputs": [
    {
     "data": {
      "text/plain": [
       "passenger_count\n",
       "1    58.198102\n",
       "2    19.035022\n",
       "3     6.636011\n",
       "5     6.293675\n",
       "6     3.927176\n",
       "4     3.604621\n",
       "0     2.303298\n",
       "7     0.000931\n",
       "9     0.000598\n",
       "8     0.000565\n",
       "Name: proportion, dtype: float64"
      ]
     },
     "execution_count": 18,
     "metadata": {},
     "output_type": "execute_result"
    }
   ],
   "source": [
    "# passenger count distribution\n",
    "(df['passenger_count'].value_counts(normalize=True))*100"
   ]
  },
  {
   "cell_type": "code",
   "execution_count": 19,
   "id": "366ff2e2",
   "metadata": {
    "scrolled": true
   },
   "outputs": [
    {
     "data": {
      "text/plain": [
       "payment_type\n",
       "1    67.826705\n",
       "2    30.757306\n",
       "3     0.872148\n",
       "4     0.543808\n",
       "5     0.000033\n",
       "Name: proportion, dtype: float64"
      ]
     },
     "execution_count": 19,
     "metadata": {},
     "output_type": "execute_result"
    }
   ],
   "source": [
    "# payment type distribution\n",
    "(df['payment_type'].value_counts(normalize=True))*100"
   ]
  },
  {
   "cell_type": "code",
   "execution_count": 20,
   "id": "0269a89f",
   "metadata": {},
   "outputs": [],
   "source": [
    "# filtering for type 1 and 2\n",
    "df = df[df['payment_type'] < 3]\n",
    "\n",
    "# filtering for passsenger count from 1 to 2\n",
    "df = df[(df['passenger_count'] > 0) & (df['passenger_count'] < 6)]"
   ]
  },
  {
   "cell_type": "code",
   "execution_count": 21,
   "id": "d26b1bde",
   "metadata": {},
   "outputs": [
    {
     "data": {
      "text/plain": [
       "(2780283, 5)"
      ]
     },
     "execution_count": 21,
     "metadata": {},
     "output_type": "execute_result"
    }
   ],
   "source": [
    "df.shape"
   ]
  },
  {
   "cell_type": "code",
   "execution_count": 22,
   "id": "63f5313b",
   "metadata": {},
   "outputs": [],
   "source": [
    "# replacing the payment type encoded value 1 and 2 to Card and Cash\n",
    "df['payment_type'].replace([1,2],['Card', 'Cash'],inplace=True)"
   ]
  },
  {
   "cell_type": "markdown",
   "id": "088692be",
   "metadata": {},
   "source": [
    "# Exploratory Data Analysis"
   ]
  },
  {
   "cell_type": "code",
   "execution_count": 23,
   "id": "a7b4a720",
   "metadata": {
    "scrolled": false
   },
   "outputs": [
    {
     "data": {
      "text/html": [
       "<div>\n",
       "<style scoped>\n",
       "    .dataframe tbody tr th:only-of-type {\n",
       "        vertical-align: middle;\n",
       "    }\n",
       "\n",
       "    .dataframe tbody tr th {\n",
       "        vertical-align: top;\n",
       "    }\n",
       "\n",
       "    .dataframe thead th {\n",
       "        text-align: right;\n",
       "    }\n",
       "</style>\n",
       "<table border=\"1\" class=\"dataframe\">\n",
       "  <thead>\n",
       "    <tr style=\"text-align: right;\">\n",
       "      <th></th>\n",
       "      <th>passenger_count</th>\n",
       "      <th>fare_amount</th>\n",
       "      <th>trip_distance</th>\n",
       "      <th>duration</th>\n",
       "    </tr>\n",
       "  </thead>\n",
       "  <tbody>\n",
       "    <tr>\n",
       "      <th>count</th>\n",
       "      <td>2.780283e+06</td>\n",
       "      <td>2.780283e+06</td>\n",
       "      <td>2.780283e+06</td>\n",
       "      <td>2.780283e+06</td>\n",
       "    </tr>\n",
       "    <tr>\n",
       "      <th>mean</th>\n",
       "      <td>1.733386e+00</td>\n",
       "      <td>1.780567e+01</td>\n",
       "      <td>4.536729e+00</td>\n",
       "      <td>2.415478e+01</td>\n",
       "    </tr>\n",
       "    <tr>\n",
       "      <th>std</th>\n",
       "      <td>1.176652e+00</td>\n",
       "      <td>1.506997e+01</td>\n",
       "      <td>4.895890e+00</td>\n",
       "      <td>9.260031e+01</td>\n",
       "    </tr>\n",
       "    <tr>\n",
       "      <th>min</th>\n",
       "      <td>1.000000e+00</td>\n",
       "      <td>-5.000000e+02</td>\n",
       "      <td>-2.218000e+01</td>\n",
       "      <td>-2.770367e+03</td>\n",
       "    </tr>\n",
       "    <tr>\n",
       "      <th>25%</th>\n",
       "      <td>1.000000e+00</td>\n",
       "      <td>9.000000e+00</td>\n",
       "      <td>1.500000e+00</td>\n",
       "      <td>9.883333e+00</td>\n",
       "    </tr>\n",
       "    <tr>\n",
       "      <th>50%</th>\n",
       "      <td>1.000000e+00</td>\n",
       "      <td>1.300000e+01</td>\n",
       "      <td>2.730000e+00</td>\n",
       "      <td>1.573333e+01</td>\n",
       "    </tr>\n",
       "    <tr>\n",
       "      <th>75%</th>\n",
       "      <td>2.000000e+00</td>\n",
       "      <td>2.100000e+01</td>\n",
       "      <td>5.470000e+00</td>\n",
       "      <td>2.336667e+01</td>\n",
       "    </tr>\n",
       "    <tr>\n",
       "      <th>max</th>\n",
       "      <td>5.000000e+00</td>\n",
       "      <td>4.265000e+03</td>\n",
       "      <td>2.628800e+02</td>\n",
       "      <td>8.525117e+03</td>\n",
       "    </tr>\n",
       "  </tbody>\n",
       "</table>\n",
       "</div>"
      ],
      "text/plain": [
       "       passenger_count   fare_amount  trip_distance      duration\n",
       "count     2.780283e+06  2.780283e+06   2.780283e+06  2.780283e+06\n",
       "mean      1.733386e+00  1.780567e+01   4.536729e+00  2.415478e+01\n",
       "std       1.176652e+00  1.506997e+01   4.895890e+00  9.260031e+01\n",
       "min       1.000000e+00 -5.000000e+02  -2.218000e+01 -2.770367e+03\n",
       "25%       1.000000e+00  9.000000e+00   1.500000e+00  9.883333e+00\n",
       "50%       1.000000e+00  1.300000e+01   2.730000e+00  1.573333e+01\n",
       "75%       2.000000e+00  2.100000e+01   5.470000e+00  2.336667e+01\n",
       "max       5.000000e+00  4.265000e+03   2.628800e+02  8.525117e+03"
      ]
     },
     "execution_count": 23,
     "metadata": {},
     "output_type": "execute_result"
    }
   ],
   "source": [
    "# descriptive statistics for data\n",
    "df.describe()"
   ]
  },
  {
   "cell_type": "code",
   "execution_count": 24,
   "id": "347c2a2f",
   "metadata": {},
   "outputs": [],
   "source": [
    "# filtering the records for only positive values\n",
    "df = df[df['fare_amount']>0]\n",
    "df = df[df['trip_distance']>0]\n",
    "df = df[df['duration']>0]"
   ]
  },
  {
   "cell_type": "code",
   "execution_count": 25,
   "id": "e07f911f",
   "metadata": {
    "scrolled": false
   },
   "outputs": [
    {
     "data": {
      "text/plain": [
       "(2748932, 5)"
      ]
     },
     "execution_count": 25,
     "metadata": {},
     "output_type": "execute_result"
    }
   ],
   "source": [
    "df.shape"
   ]
  },
  {
   "cell_type": "markdown",
   "id": "46bcab93",
   "metadata": {},
   "source": [
    "Handling Outliners"
   ]
  },
  {
   "cell_type": "code",
   "execution_count": 26,
   "id": "af773837",
   "metadata": {},
   "outputs": [
    {
     "data": {
      "image/png": "[encoded data removed]",
      "text/plain": [
       "<Figure size 640x480 with 1 Axes>"
      ]
     },
     "metadata": {},
     "output_type": "display_data"
    }
   ],
   "source": [
    "# checking for outliers\n",
    "sns.boxplot(x='payment_type', y='fare_amount', data=df)\n",
    "plt.show()"
   ]
  },
  {
   "cell_type": "code",
   "execution_count": 27,
   "id": "5b9401c8",
   "metadata": {},
   "outputs": [],
   "source": [
    "# removing outliers using interqurtile range for the numerical variables\n",
    "for col in ['fare_amount', 'trip_distance', 'duration']:\n",
    "    \n",
    "    Q1 = df[col].quantile(0.25)\n",
    "    Q3 = df[col].quantile(0.75)\n",
    "\n",
    "    IQR = Q3 - Q1\n",
    "    \n",
    "    # define lower and upper limit for outliers\n",
    "    Lower_limit = Q1-1.5*IQR\n",
    "    Upper_limit = Q3+1.5*IQR\n",
    "\n",
    "    # filter out outliers\n",
    "    df = df[(df[col]>=Lower_limit) & (df[col]<=Upper_limit)]\n",
    "    \n",
    "    "
   ]
  },
  {
   "cell_type": "code",
   "execution_count": 28,
   "id": "0019d8c2",
   "metadata": {
    "scrolled": false
   },
   "outputs": [
    {
     "data": {
      "image/png": "[encoded data removed]",
      "text/plain": [
       "<Figure size 1200x500 with 1 Axes>"
      ]
     },
     "metadata": {},
     "output_type": "display_data"
    },
    {
     "data": {
      "image/png": "[encoded data removed]",
      "text/plain": [
       "<Figure size 1200x500 with 1 Axes>"
      ]
     },
     "metadata": {},
     "output_type": "display_data"
    }
   ],
   "source": [
    "plt.figure(figsize=(12,5))\n",
    "plt.subplot(1,2,1)\n",
    "plt.hist(df[df['payment_type']=='Card']['fare_amount'], histtype='barstacked', bins=20, edgecolor='k', color = '#1F77B4', label = 'Card')\n",
    "plt.hist(df[df['payment_type']=='Cash']['fare_amount'], histtype='barstacked', bins=20, edgecolor='k', color = '#FF7F0E', label = 'Cash')\n",
    "plt.title('Distribution of Fare Amount')\n",
    "plt.legend()\n",
    "plt.show()\n",
    "\n",
    "plt.figure(figsize=(12,5))\n",
    "plt.subplot(1,2,1)\n",
    "plt.hist(df[df['payment_type']=='Card']['trip_distance'], histtype='barstacked', bins=20, edgecolor='k', color = '#1F77B4', label = 'Card')\n",
    "plt.hist(df[df['payment_type']=='Cash']['trip_distance'], histtype='barstacked', bins=20, edgecolor='k', color = '#FF7F0E', label = 'Cash')\n",
    "plt.title('Distribution of Trip Distance')\n",
    "plt.legend()\n",
    "plt.show()"
   ]
  },
  {
   "cell_type": "code",
   "execution_count": 29,
   "id": "7ed00115",
   "metadata": {
    "scrolled": false
   },
   "outputs": [
    {
     "data": {
      "text/html": [
       "<div>\n",
       "<style scoped>\n",
       "    .dataframe tbody tr th:only-of-type {\n",
       "        vertical-align: middle;\n",
       "    }\n",
       "\n",
       "    .dataframe tbody tr th {\n",
       "        vertical-align: top;\n",
       "    }\n",
       "\n",
       "    .dataframe thead tr th {\n",
       "        text-align: left;\n",
       "    }\n",
       "\n",
       "    .dataframe thead tr:last-of-type th {\n",
       "        text-align: right;\n",
       "    }\n",
       "</style>\n",
       "<table border=\"1\" class=\"dataframe\">\n",
       "  <thead>\n",
       "    <tr>\n",
       "      <th></th>\n",
       "      <th colspan=\"2\" halign=\"left\">fare_amount</th>\n",
       "      <th colspan=\"2\" halign=\"left\">trip_distance</th>\n",
       "    </tr>\n",
       "    <tr>\n",
       "      <th></th>\n",
       "      <th>mean</th>\n",
       "      <th>std</th>\n",
       "      <th>mean</th>\n",
       "      <th>std</th>\n",
       "    </tr>\n",
       "    <tr>\n",
       "      <th>payment_type</th>\n",
       "      <th></th>\n",
       "      <th></th>\n",
       "      <th></th>\n",
       "      <th></th>\n",
       "    </tr>\n",
       "  </thead>\n",
       "  <tbody>\n",
       "    <tr>\n",
       "      <th>Card</th>\n",
       "      <td>13.112493</td>\n",
       "      <td>5.849281</td>\n",
       "      <td>2.992237</td>\n",
       "      <td>1.99274</td>\n",
       "    </tr>\n",
       "    <tr>\n",
       "      <th>Cash</th>\n",
       "      <td>11.758005</td>\n",
       "      <td>5.613038</td>\n",
       "      <td>2.602207</td>\n",
       "      <td>1.91372</td>\n",
       "    </tr>\n",
       "  </tbody>\n",
       "</table>\n",
       "</div>"
      ],
      "text/plain": [
       "             fare_amount           trip_distance         \n",
       "                    mean       std          mean      std\n",
       "payment_type                                             \n",
       "Card           13.112493  5.849281      2.992237  1.99274\n",
       "Cash           11.758005  5.613038      2.602207  1.91372"
      ]
     },
     "execution_count": 29,
     "metadata": {},
     "output_type": "execute_result"
    }
   ],
   "source": [
    "# calulating the mean and standard deviation group by on payment type\n",
    "df.groupby('payment_type').agg({\n",
    "    'fare_amount' : ['mean', 'std'],\n",
    "    'trip_distance' : ['mean', 'std']\n",
    "})"
   ]
  },
  {
   "cell_type": "code",
   "execution_count": 30,
   "id": "5240eb89",
   "metadata": {
    "scrolled": true
   },
   "outputs": [
    {
     "data": {
      "image/png": "[encoded data removed]",
      "text/plain": [
       "<Figure size 640x480 with 1 Axes>"
      ]
     },
     "metadata": {},
     "output_type": "display_data"
    }
   ],
   "source": [
    "plt.pie(df['payment_type'].value_counts(normalize=True), labels = df['payment_type'].value_counts().index,\n",
    "       startangle=90, autopct= '%1.1f%%', colors = ['#1F77B4', '#FF7F0E'])\n",
    "plt.title('Preference of Payment Type')\n",
    "plt.show()"
   ]
  },
  {
   "cell_type": "code",
   "execution_count": 31,
   "id": "ca1e8d9f",
   "metadata": {},
   "outputs": [],
   "source": [
    "# calculating the total passenger count distribution based in the different payment type\n",
    "passenger_count = df.groupby(['payment_type', 'passenger_count'])[['passenger_count']].count()\n",
    "\n",
    "# renaming the passenger count to count to reset the index\n",
    "passenger_count.rename(columns={'passenger_count' : 'count'}, inplace = True)\n",
    "passenger_count.reset_index(inplace=True)"
   ]
  },
  {
   "cell_type": "code",
   "execution_count": 32,
   "id": "f185a8fe",
   "metadata": {},
   "outputs": [
    {
     "data": {
      "text/html": [
       "<div>\n",
       "<style scoped>\n",
       "    .dataframe tbody tr th:only-of-type {\n",
       "        vertical-align: middle;\n",
       "    }\n",
       "\n",
       "    .dataframe tbody tr th {\n",
       "        vertical-align: top;\n",
       "    }\n",
       "\n",
       "    .dataframe thead th {\n",
       "        text-align: right;\n",
       "    }\n",
       "</style>\n",
       "<table border=\"1\" class=\"dataframe\">\n",
       "  <thead>\n",
       "    <tr style=\"text-align: right;\">\n",
       "      <th></th>\n",
       "      <th>payment_type</th>\n",
       "      <th>passenger_count</th>\n",
       "      <th>count</th>\n",
       "      <th>perc</th>\n",
       "    </tr>\n",
       "  </thead>\n",
       "  <tbody>\n",
       "    <tr>\n",
       "      <th>0</th>\n",
       "      <td>Card</td>\n",
       "      <td>1</td>\n",
       "      <td>909245</td>\n",
       "      <td>39.568381</td>\n",
       "    </tr>\n",
       "    <tr>\n",
       "      <th>1</th>\n",
       "      <td>Card</td>\n",
       "      <td>2</td>\n",
       "      <td>327661</td>\n",
       "      <td>14.259100</td>\n",
       "    </tr>\n",
       "    <tr>\n",
       "      <th>2</th>\n",
       "      <td>Card</td>\n",
       "      <td>3</td>\n",
       "      <td>122412</td>\n",
       "      <td>5.327106</td>\n",
       "    </tr>\n",
       "    <tr>\n",
       "      <th>3</th>\n",
       "      <td>Card</td>\n",
       "      <td>4</td>\n",
       "      <td>63676</td>\n",
       "      <td>2.771042</td>\n",
       "    </tr>\n",
       "    <tr>\n",
       "      <th>4</th>\n",
       "      <td>Card</td>\n",
       "      <td>5</td>\n",
       "      <td>124045</td>\n",
       "      <td>5.398171</td>\n",
       "    </tr>\n",
       "    <tr>\n",
       "      <th>5</th>\n",
       "      <td>Cash</td>\n",
       "      <td>1</td>\n",
       "      <td>460550</td>\n",
       "      <td>20.042143</td>\n",
       "    </tr>\n",
       "    <tr>\n",
       "      <th>6</th>\n",
       "      <td>Cash</td>\n",
       "      <td>2</td>\n",
       "      <td>155472</td>\n",
       "      <td>6.765806</td>\n",
       "    </tr>\n",
       "    <tr>\n",
       "      <th>7</th>\n",
       "      <td>Cash</td>\n",
       "      <td>3</td>\n",
       "      <td>54506</td>\n",
       "      <td>2.371984</td>\n",
       "    </tr>\n",
       "    <tr>\n",
       "      <th>8</th>\n",
       "      <td>Cash</td>\n",
       "      <td>4</td>\n",
       "      <td>32715</td>\n",
       "      <td>1.423686</td>\n",
       "    </tr>\n",
       "    <tr>\n",
       "      <th>9</th>\n",
       "      <td>Cash</td>\n",
       "      <td>5</td>\n",
       "      <td>47626</td>\n",
       "      <td>2.072581</td>\n",
       "    </tr>\n",
       "  </tbody>\n",
       "</table>\n",
       "</div>"
      ],
      "text/plain": [
       "  payment_type  passenger_count   count       perc\n",
       "0         Card                1  909245  39.568381\n",
       "1         Card                2  327661  14.259100\n",
       "2         Card                3  122412   5.327106\n",
       "3         Card                4   63676   2.771042\n",
       "4         Card                5  124045   5.398171\n",
       "5         Cash                1  460550  20.042143\n",
       "6         Cash                2  155472   6.765806\n",
       "7         Cash                3   54506   2.371984\n",
       "8         Cash                4   32715   1.423686\n",
       "9         Cash                5   47626   2.072581"
      ]
     },
     "execution_count": 32,
     "metadata": {},
     "output_type": "execute_result"
    }
   ],
   "source": [
    "# calculating the percentage of the each passenger count\n",
    "passenger_count['perc'] = (passenger_count['count']/passenger_count['count'].sum())*100\n",
    "passenger_count"
   ]
  },
  {
   "cell_type": "code",
   "execution_count": 33,
   "id": "b4f5f60c",
   "metadata": {},
   "outputs": [
    {
     "data": {
      "text/html": [
       "<div>\n",
       "<style scoped>\n",
       "    .dataframe tbody tr th:only-of-type {\n",
       "        vertical-align: middle;\n",
       "    }\n",
       "\n",
       "    .dataframe tbody tr th {\n",
       "        vertical-align: top;\n",
       "    }\n",
       "\n",
       "    .dataframe thead th {\n",
       "        text-align: right;\n",
       "    }\n",
       "</style>\n",
       "<table border=\"1\" class=\"dataframe\">\n",
       "  <thead>\n",
       "    <tr style=\"text-align: right;\">\n",
       "      <th></th>\n",
       "      <th>payment_type</th>\n",
       "      <th>1</th>\n",
       "      <th>2</th>\n",
       "      <th>3</th>\n",
       "      <th>4</th>\n",
       "      <th>5</th>\n",
       "    </tr>\n",
       "  </thead>\n",
       "  <tbody>\n",
       "    <tr>\n",
       "      <th>0</th>\n",
       "      <td>Card</td>\n",
       "      <td>39.568381</td>\n",
       "      <td>14.2591</td>\n",
       "      <td>5.327106</td>\n",
       "      <td>2.771042</td>\n",
       "      <td>5.398171</td>\n",
       "    </tr>\n",
       "    <tr>\n",
       "      <th>1</th>\n",
       "      <td>Cash</td>\n",
       "      <td>20.042143</td>\n",
       "      <td>6.765806</td>\n",
       "      <td>2.371984</td>\n",
       "      <td>1.423686</td>\n",
       "      <td>2.072581</td>\n",
       "    </tr>\n",
       "  </tbody>\n",
       "</table>\n",
       "</div>"
      ],
      "text/plain": [
       "  payment_type          1         2         3         4         5\n",
       "0         Card  39.568381   14.2591  5.327106  2.771042  5.398171\n",
       "1         Cash  20.042143  6.765806  2.371984  1.423686  2.072581"
      ]
     },
     "execution_count": 33,
     "metadata": {},
     "output_type": "execute_result"
    }
   ],
   "source": [
    "# creating a new empty dataframe to store the distribution of each payment type (useful to the visualizatio)\n",
    "df2 = pd.DataFrame(columns =['payment_type',1,2,3,4,5])\n",
    "df2['payment_type'] = ['Card', 'Cash']\n",
    "df2.iloc[0,1:] = passenger_count.iloc[0:5,-1]\n",
    "df2.iloc[1,1:] = passenger_count.iloc[5:,-1]\n",
    "df2"
   ]
  },
  {
   "cell_type": "code",
   "execution_count": 34,
   "id": "b7494d93",
   "metadata": {
    "scrolled": false
   },
   "outputs": [
    {
     "data": {
      "image/png": "[encoded data removed]",
      "text/plain": [
       "<Figure size 2000x800 with 1 Axes>"
      ]
     },
     "metadata": {},
     "output_type": "display_data"
    }
   ],
   "source": [
    "fig, ax = plt.subplots(figsize=(20,8))\n",
    "df2.plot(x='payment_type', kind='barh', stacked = True,ax=ax, color=['#1F77B4', '#FF7F0E', '#2CA02C', '#D62728', '#9467BD'])\n",
    "\n",
    "# Add percentage text\n",
    "\n",
    "for p in ax.patches:\n",
    "    width = p.get_width()\n",
    "    height = p.get_height()\n",
    "    x, y = p.get_xy()\n",
    "    ax.text(x + width / 2,\n",
    "            y + height / 2,\n",
    "            '{:.0f}%'.format(width),\n",
    "            horizontalalignment='center',\n",
    "            verticalalignment='center')\n",
    "\n",
    "\n",
    "# Customize plot\n",
    "ax.set_xlabel('Percentage')\n",
    "ax.set_title('Payment Type Distribution')\n",
    "ax.legend(title='Payment Method', bbox_to_anchor=(1, 1))\n",
    "\n",
    "plt.tight_layout()\n",
    "plt.show()"
   ]
  },
  {
   "cell_type": "markdown",
   "id": "04c918af",
   "metadata": {},
   "source": [
    "# Testing Hypothesis"
   ]
  },
  {
   "cell_type": "code",
   "execution_count": 35,
   "id": "18643827",
   "metadata": {
    "scrolled": false
   },
   "outputs": [
    {
     "data": {
      "image/png": "[encoded data removed]",
      "text/plain": [
       "<Figure size 640x480 with 1 Axes>"
      ]
     },
     "metadata": {},
     "output_type": "display_data"
    }
   ],
   "source": [
    "import statsmodels.api as sm\n",
    "\n",
    "sm.qqplot(df['fare_amount'], line = '45')\n",
    "plt.show()"
   ]
  },
  {
   "cell_type": "markdown",
   "id": "bbefb5f8",
   "metadata": {},
   "source": [
    "Step 1:<br>\n",
    "Null Hypothesis (H<sub>0</sub>) : There is no difference customers who use credit cards and customers who use cash <br>\n",
    "vs<br>\n",
    "Alternative Hypothesis (H<sub>1</sub>) : There is difference between customers who use credit cards and customers who use cash <br>\n",
    "<br>\n",
    "Step 2: Two Tailed<br>\n",
    "<br>\n",
    "Step 3: Alpha = 0.05\n",
    "<br>"
   ]
  },
  {
   "cell_type": "code",
   "execution_count": 36,
   "id": "d6ffb6a1",
   "metadata": {},
   "outputs": [],
   "source": [
    "card_sample = df[df['payment_type']=='Card']['fare_amount']\n",
    "cash_sample = df[df['payment_type']=='Cash']['fare_amount']"
   ]
  },
  {
   "cell_type": "code",
   "execution_count": 37,
   "id": "5ca8a1df",
   "metadata": {},
   "outputs": [
    {
     "name": "stdout",
     "output_type": "stream",
     "text": [
      "Step 4: Test Statistics\n",
      "T Statistics 166.81250013045764\n",
      "P-value 0.0\n",
      " \n",
      "Step 5: Conclusion\n",
      "We reject H0\n",
      "There is difference between customers who use credit cards and customers who use cash\n"
     ]
    }
   ],
   "source": [
    "# Step 4 : Test Statistics\n",
    "\n",
    "from statsmodels.stats.weightstats import ztest\n",
    "\n",
    "z_score,p_value = ztest(card_sample,cash_sample)\n",
    "\n",
    "\n",
    "print(\"Step 4: Test Statistics\")\n",
    "print(\"T Statistics\", z_score)\n",
    "print(\"P-value\", p_value)\n",
    "print(\" \")\n",
    "\n",
    "# Step 5: Conclusion\n",
    "\n",
    "alpha = 0.05\n",
    "\n",
    "if p_value < alpha:\n",
    "    print('Step 5: Conclusion')\n",
    "    print('We reject H0')\n",
    "    print('There is difference between customers who use credit cards and customers who use cash')\n",
    "\n",
    "    \n",
    "else:\n",
    "    print('Step 5: Conclusion')\n",
    "    print('We do not reject H0')\n",
    "    print('There is no difference between customers who use credit cards and customers who use cash')"
   ]
  }
 ],
 "metadata": {
  "kernelspec": {
   "display_name": "Python 3 (ipykernel)",
   "language": "python",
   "name": "python3"
  },
  "language_info": {
   "codemirror_mode": {
    "name": "ipython",
    "version": 3
   },
   "file_extension": ".py",
   "mimetype": "text/x-python",
   "name": "python",
   "nbconvert_exporter": "python",
   "pygments_lexer": "ipython3",
   "version": "3.11.7"
  }
 },
 "nbformat": 4,
 "nbformat_minor": 5
}
